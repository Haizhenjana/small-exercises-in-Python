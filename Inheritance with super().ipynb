{
 "cells": [
  {
   "cell_type": "code",
   "execution_count": 6,
   "metadata": {},
   "outputs": [],
   "source": [
    "#Eine CSV Datei erstellen, um FileReader und CSVReader zu testen\n",
    "with open(\"datei.csv\",\"w\",encoding=\"utf-8\") as file:\n",
    "    #encoding nötig, um Sonderzeichen zu schreiben\n",
    "    file.write(\"Nachname,Vorname\\n\")\n",
    "    file.write(\"Fischer,Alex\\n\")\n",
    "    file.write(\"Müller,Paula\\n\")\n",
    "    file.write(\"Schmidt,Emma\\n\")\n",
    "    file.write(\"Schneider,Max\")\n",
    "    "
   ]
  },
  {
   "cell_type": "code",
   "execution_count": 8,
   "metadata": {},
   "outputs": [
    {
     "name": "stdout",
     "output_type": "stream",
     "text": [
      "['Nachname,Vorname', 'Fischer,Alex', 'Müller,Paula', 'Schmidt,Emma', 'Schneider,Max']\n",
      "[['Nachname', 'Vorname'], ['Fischer', 'Alex'], ['Müller', 'Paula'], ['Schmidt', 'Emma'], ['Schneider', 'Max']]\n"
     ]
    }
   ],
   "source": [
    "class FileReader():\n",
    "    def __init__(self,filepath):\n",
    "        self.filepath = filepath        \n",
    "        \n",
    "    def lines(self):\n",
    "        lines = []\n",
    "        with open(self.filepath,\"r\",encoding=\"utf-8\") as file:\n",
    "            #encoding nötig, um Sonderzeichen ü richtig zu lesen\n",
    "            for line in file:\n",
    "                lines.append(line.strip())      \n",
    "        return lines\n",
    "    \n",
    "class CsvReader(FileReader):\n",
    "    def __init__(self,filepath):\n",
    "        super().__init__(filepath)\n",
    "        \n",
    "    def lines(self):\n",
    "    #return eine mehrdimensionale Liste\n",
    "        lines = super().lines()\n",
    "        return [line.split(\",\") for line in lines]\n",
    "\n",
    "f = FileReader(\"datei.csv\")\n",
    "print(f.lines())\n",
    "\n",
    "f = CsvReader(\"datei.csv\")\n",
    "print(f.lines())\n",
    "\n"
   ]
  },
  {
   "cell_type": "code",
   "execution_count": null,
   "metadata": {},
   "outputs": [],
   "source": []
  }
 ],
 "metadata": {
  "kernelspec": {
   "display_name": "Python 3",
   "language": "python",
   "name": "python3"
  },
  "language_info": {
   "codemirror_mode": {
    "name": "ipython",
    "version": 3
   },
   "file_extension": ".py",
   "mimetype": "text/x-python",
   "name": "python",
   "nbconvert_exporter": "python",
   "pygments_lexer": "ipython3",
   "version": "3.7.3"
  }
 },
 "nbformat": 4,
 "nbformat_minor": 2
}
