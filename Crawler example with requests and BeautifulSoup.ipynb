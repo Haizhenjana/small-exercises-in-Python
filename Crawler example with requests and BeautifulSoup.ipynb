{
 "cells": [
  {
   "cell_type": "code",
   "execution_count": 15,
   "metadata": {},
   "outputs": [
    {
     "name": "stdout",
     "output_type": "stream",
     "text": [
      "😩\n",
      "😐\n",
      "😌\n",
      "😚\n",
      "😠\n",
      "😮\n",
      "😢\n"
     ]
    }
   ],
   "source": [
    "import requests\n",
    "from bs4 import BeautifulSoup\n",
    "from urllib.parse import urljoin\n",
    "\n",
    "class CrawlerArticle():\n",
    "    def __init__(self, title, emoji, content, image):\n",
    "        self.title = title\n",
    "        self.emoji = emoji\n",
    "        self.content = content\n",
    "        self.image = image\n",
    "\n",
    "class ArticleFetcher():\n",
    "    def fetch(self):\n",
    "        # die relevante Daten in einer Seite extrahieren\n",
    "        url = \"http://python........\"\n",
    "        r = requests.get(url)\n",
    "        doc = BeautifulSoup(r.text, \"html.parser\")\n",
    "        articles = []\n",
    "        for card in doc.select(\".card\"):\n",
    "            card_title_span = card.select(\".card-title span\")\n",
    "            emoji = card_title_span[0].text\n",
    "            title = card_title_span[1].text\n",
    "            content = card.select_one(\".card-text\").text\n",
    "            image = card.select_one(\"img\").attrs[\"src\"]\n",
    "            image = urljoin(url,image)\n",
    "            crawled = CrawlerArticle(title,emoji,content,image)\n",
    "            articles.append(crawled)      \n",
    "        return articles\n",
    "\n",
    "fetcher = ArticleFetcher()\n",
    "articles = fetcher.fetch()\n",
    "\n",
    "for article in articles:\n",
    "    print(article.emoji)\n",
    "        "
   ]
  },
  {
   "cell_type": "code",
   "execution_count": null,
   "metadata": {},
   "outputs": [],
   "source": [
    "\n"
   ]
  },
  {
   "cell_type": "code",
   "execution_count": null,
   "metadata": {},
   "outputs": [],
   "source": []
  },
  {
   "cell_type": "code",
   "execution_count": 13,
   "metadata": {},
   "outputs": [
    {
     "name": "stdout",
     "output_type": "stream",
     "text": [
      "😩\n",
      "😐\n",
      "😌\n",
      "😚\n",
      "😠\n",
      "😮\n",
      "😢\n",
      "😠\n",
      "😆\n",
      "😤\n",
      "😟\n",
      "😌\n",
      "😓\n",
      "😞\n",
      "😢\n",
      "😏\n",
      "😳\n",
      "😚\n",
      "😲\n",
      "😯\n",
      "😵\n",
      "😋\n",
      "😴\n",
      "😇\n",
      "😈\n",
      "😝\n",
      "😧\n",
      "😈\n",
      "😶\n",
      "😄\n",
      "😩\n",
      "😬\n",
      "😈\n",
      "😊\n",
      "😅\n",
      "😄\n",
      "😴\n",
      "😂\n",
      "😕\n",
      "😊\n",
      "😦\n"
     ]
    }
   ],
   "source": [
    "import requests\n",
    "from bs4 import BeautifulSoup\n",
    "from urllib.parse import urljoin\n",
    "\n",
    "class CrawlerArticle():\n",
    "    def __init__(self, title, emoji, content, image):\n",
    "        self.title = title\n",
    "        self.emoji = emoji\n",
    "        self.content = content\n",
    "        self.image = image\n",
    "\n",
    "class ArticleFetcher():\n",
    "    def __init__(self,url):\n",
    "        self.url = url\n",
    "        \n",
    "    def fetch(self):\n",
    "        #die relevante Daten von mehreren Seiten extrahieren\n",
    "        articles = []\n",
    "        url = self.url\n",
    "        while True:\n",
    "            r = requests.get(url)\n",
    "            doc = BeautifulSoup(r.text, \"html.parser\")\n",
    "            for card in doc.select(\".card\"):\n",
    "                card_title_span = card.select(\".card-title span\")\n",
    "                emoji = card_title_span[0].text\n",
    "                title = card_title_span[1].text\n",
    "                content = card.select_one(\".card-text\").text\n",
    "                image = card.select_one(\"img\").attrs[\"src\"]\n",
    "                image = urljoin(url,image)\n",
    "                crawled = CrawlerArticle(title,emoji,content,image)\n",
    "                articles.append(crawled)\n",
    "            if doc.select_one(\".navigation\") == None:\n",
    "                break\n",
    "            urlatta = doc.select_one(\".navigation\").select_one(\"a\").attrs[\"href\"]\n",
    "            url = urljoin(url,urlatta)   \n",
    "        return articles\n",
    "    \n",
    "url = \"http://python........\"\n",
    "fetcher = ArticleFetcher(url)\n",
    "articles = fetcher.fetch()\n",
    "\n",
    "for article in articles:\n",
    "    print(article.emoji)\n"
   ]
  },
  {
   "cell_type": "code",
   "execution_count": null,
   "metadata": {},
   "outputs": [],
   "source": []
  },
  {
   "cell_type": "code",
   "execution_count": null,
   "metadata": {},
   "outputs": [],
   "source": []
  }
 ],
 "metadata": {
  "kernelspec": {
   "display_name": "Python 3",
   "language": "python",
   "name": "python3"
  },
  "language_info": {
   "codemirror_mode": {
    "name": "ipython",
    "version": 3
   },
   "file_extension": ".py",
   "mimetype": "text/x-python",
   "name": "python",
   "nbconvert_exporter": "python",
   "pygments_lexer": "ipython3",
   "version": "3.7.4"
  }
 },
 "nbformat": 4,
 "nbformat_minor": 2
}
