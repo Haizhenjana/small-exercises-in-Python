{
 "cells": [
  {
   "cell_type": "code",
   "execution_count": 2,
   "metadata": {},
   "outputs": [
    {
     "name": "stdout",
     "output_type": "stream",
     "text": [
      "   Year  Umsatz\n",
      "0  1980     210\n",
      "1  1985     220\n",
      "2  1990     235\n",
      "3  1995     390\n",
      "4  2000     210\n"
     ]
    }
   ],
   "source": [
    "import pandas as pd\n",
    "\n",
    "# create a DataFrame object aus Dictionary\n",
    "sales = {\"Year\":[1980, 1985, 1990, 1995, 2000], \"Umsatz\": [210, 220,235,390, 210]}\n",
    "df = pd.DataFrame(sales)\n",
    "print(df)"
   ]
  },
  {
   "cell_type": "code",
   "execution_count": 4,
   "metadata": {},
   "outputs": [
    {
     "name": "stdout",
     "output_type": "stream",
     "text": [
      "1980\n",
      "210\n",
      "1980\n"
     ]
    }
   ],
   "source": [
    "# three ways to print out the value of data from DataFrame\n",
    "print(df.loc[0, \"Year\"])\n",
    "print(df.iloc[0,1])\n",
    "print(df[[\"Year\"]].values[0][0])"
   ]
  },
  {
   "cell_type": "code",
   "execution_count": 5,
   "metadata": {},
   "outputs": [
    {
     "name": "stdout",
     "output_type": "stream",
     "text": [
      "   Year  Umsatz\n",
      "0  1980     210\n",
      "1  1985     220\n",
      "2  1990     235\n"
     ]
    }
   ],
   "source": [
    "# data slicing\n",
    "print(df.loc[0:2, \"Year\":\"Umsatz\"])"
   ]
  },
  {
   "cell_type": "code",
   "execution_count": 8,
   "metadata": {},
   "outputs": [
    {
     "name": "stdout",
     "output_type": "stream",
     "text": [
      "   Year  Umsatz\n",
      "0  1980     210\n",
      "1  1985     220\n",
      "2  1990     235\n"
     ]
    }
   ],
   "source": [
    "print(df.iloc[0:3,0:2])"
   ]
  },
  {
   "cell_type": "code",
   "execution_count": 9,
   "metadata": {},
   "outputs": [
    {
     "name": "stdout",
     "output_type": "stream",
     "text": [
      "1980\n",
      "1985\n",
      "1990\n",
      "1995\n",
      "2000\n"
     ]
    }
   ],
   "source": [
    "# data loops\n",
    "for year in df[\"Year\"]:\n",
    "    print(year)"
   ]
  },
  {
   "cell_type": "code",
   "execution_count": 10,
   "metadata": {},
   "outputs": [
    {
     "name": "stdout",
     "output_type": "stream",
     "text": [
      "   Year  Umsatz\n",
      "3  1995     390\n",
      "4  2000     210\n"
     ]
    }
   ],
   "source": [
    "#data filter\n",
    "df1 = df[df[\"Year\"]>1990]\n",
    "print(df1) "
   ]
  },
  {
   "cell_type": "code",
   "execution_count": null,
   "metadata": {},
   "outputs": [],
   "source": []
  }
 ],
 "metadata": {
  "kernelspec": {
   "display_name": "Python 3",
   "language": "python",
   "name": "python3"
  },
  "language_info": {
   "codemirror_mode": {
    "name": "ipython",
    "version": 3
   },
   "file_extension": ".py",
   "mimetype": "text/x-python",
   "name": "python",
   "nbconvert_exporter": "python",
   "pygments_lexer": "ipython3",
   "version": "3.7.4"
  }
 },
 "nbformat": 4,
 "nbformat_minor": 2
}
