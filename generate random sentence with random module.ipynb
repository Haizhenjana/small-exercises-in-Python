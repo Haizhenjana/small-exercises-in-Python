{
 "cells": [
  {
   "cell_type": "code",
   "execution_count": 16,
   "metadata": {},
   "outputs": [
    {
     "name": "stdout",
     "output_type": "stream",
     "text": [
      "Ich esse gerne Nudeln, Kartoffeln und Reis.\n"
     ]
    }
   ],
   "source": [
    "import random\n",
    "# build up sentence about food\n",
    "    \n",
    "part1 = [\"Wir essen\", \"Ich esse\", \"Er isst\"]\n",
    "part2 = [\"gerne\", \"selten\", \"regelmäßig\"]\n",
    "part3 = [\"Obst und Gemüse.\", \"Keks und Kuchen.\", \"Fleisch und Fisch.\", \"Nüsse.\", \"Joghurt, Milch und Käse.\", \"Nudeln, Kartoffeln und Reis.\"]\n",
    "\n",
    "words = [part1, part2, part3]\n",
    "\n",
    "sentence = []\n",
    "for part in words:\n",
    "    r = random.randint(0, len(part)-1)\n",
    "    sentence.append(part[r])\n",
    "\n",
    "sentence = \" \".join(sentence)\n",
    "print(sentence)"
   ]
  },
  {
   "cell_type": "code",
   "execution_count": null,
   "metadata": {},
   "outputs": [],
   "source": []
  },
  {
   "cell_type": "code",
   "execution_count": null,
   "metadata": {},
   "outputs": [],
   "source": []
  }
 ],
 "metadata": {
  "kernelspec": {
   "display_name": "Python 3",
   "language": "python",
   "name": "python3"
  },
  "language_info": {
   "codemirror_mode": {
    "name": "ipython",
    "version": 3
   },
   "file_extension": ".py",
   "mimetype": "text/x-python",
   "name": "python",
   "nbconvert_exporter": "python",
   "pygments_lexer": "ipython3",
   "version": "3.7.3"
  }
 },
 "nbformat": 4,
 "nbformat_minor": 2
}
