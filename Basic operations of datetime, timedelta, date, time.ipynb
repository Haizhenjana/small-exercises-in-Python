{
 "cells": [
  {
   "cell_type": "code",
   "execution_count": 1,
   "metadata": {},
   "outputs": [
    {
     "name": "stdout",
     "output_type": "stream",
     "text": [
      "2020-07-25 10:16:36.519422\n"
     ]
    }
   ],
   "source": [
    "from datetime import datetime\n",
    "now = datetime.now()\n",
    "print(now)"
   ]
  },
  {
   "cell_type": "code",
   "execution_count": 2,
   "metadata": {},
   "outputs": [
    {
     "name": "stdout",
     "output_type": "stream",
     "text": [
      "2020\n",
      "7\n",
      "25\n",
      "10\n",
      "16\n",
      "36\n",
      "2020-07-25\n",
      "10:16:36.519422\n"
     ]
    }
   ],
   "source": [
    "print(now.year)\n",
    "print(now.month)\n",
    "print(now.day)\n",
    "print(now.hour)\n",
    "print(now.minute)\n",
    "print(now.second)\n",
    "print(now.date())\n",
    "print(now.time())"
   ]
  },
  {
   "cell_type": "code",
   "execution_count": 5,
   "metadata": {},
   "outputs": [
    {
     "name": "stdout",
     "output_type": "stream",
     "text": [
      "Saturday, 25.07.2020\n",
      "Saturday, 25.July.2020\n"
     ]
    }
   ],
   "source": [
    "# print out a time value with the desired form\n",
    "print(now.strftime(\"%A, %d.%m.%Y\"))\n",
    "print(now.strftime(\"%A, %d.%B.%Y\"))"
   ]
  },
  {
   "cell_type": "code",
   "execution_count": 6,
   "metadata": {},
   "outputs": [
    {
     "name": "stdout",
     "output_type": "stream",
     "text": [
      "Samstag, 25.Jul.20\n"
     ]
    }
   ],
   "source": [
    "# print out a time value with the desired form in DE\n",
    "import locale\n",
    "locale.setlocale(locale.LC_ALL,\"de_DE\")\n",
    "print(now.strftime(\"%A, %d.%b.%y\"))"
   ]
  },
  {
   "cell_type": "code",
   "execution_count": 7,
   "metadata": {},
   "outputs": [
    {
     "name": "stdout",
     "output_type": "stream",
     "text": [
      "2020-07-18 00:00:00\n"
     ]
    }
   ],
   "source": [
    "# read a time value with method strptime of datetime\n",
    "day1 = \"18.07.2020\"\n",
    "datetime1 = datetime.strptime(day1, \"%d.%m.%Y\")\n",
    "print(datetime1)\n"
   ]
  },
  {
   "cell_type": "code",
   "execution_count": 9,
   "metadata": {},
   "outputs": [
    {
     "name": "stdout",
     "output_type": "stream",
     "text": [
      "2020-08-04 22:46:57.049147\n"
     ]
    }
   ],
   "source": [
    "from datetime import timedelta\n",
    "\n",
    "now = datetime.now()\n",
    "datetime2 = now + timedelta(days = 10, hours = 12, minutes = 0, seconds = 0)\n",
    "print(datetime2)"
   ]
  },
  {
   "cell_type": "code",
   "execution_count": 10,
   "metadata": {},
   "outputs": [
    {
     "name": "stdout",
     "output_type": "stream",
     "text": [
      "64 days, 4:05:00\n"
     ]
    }
   ],
   "source": [
    "datetime1 = datetime(2020,7,11)\n",
    "datetime2 = datetime(2020,9,13,4,5,0)\n",
    "td = datetime2 - datetime1\n",
    "print(td)"
   ]
  },
  {
   "cell_type": "code",
   "execution_count": null,
   "metadata": {},
   "outputs": [],
   "source": []
  }
 ],
 "metadata": {
  "kernelspec": {
   "display_name": "Python 3",
   "language": "python",
   "name": "python3"
  },
  "language_info": {
   "codemirror_mode": {
    "name": "ipython",
    "version": 3
   },
   "file_extension": ".py",
   "mimetype": "text/x-python",
   "name": "python",
   "nbconvert_exporter": "python",
   "pygments_lexer": "ipython3",
   "version": "3.7.4"
  }
 },
 "nbformat": 4,
 "nbformat_minor": 2
}
