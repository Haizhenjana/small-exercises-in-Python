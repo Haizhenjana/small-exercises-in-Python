{
 "cells": [
  {
   "cell_type": "code",
   "execution_count": 14,
   "metadata": {},
   "outputs": [
    {
     "name": "stdout",
     "output_type": "stream",
     "text": [
      "Requirement already satisfied: nba_api in c:\\programdata\\anaconda3\\lib\\site-packages (1.1.8)\n",
      "Requirement already satisfied: requests in c:\\programdata\\anaconda3\\lib\\site-packages (from nba_api) (2.22.0)\n",
      "Requirement already satisfied: certifi>=2017.4.17 in c:\\programdata\\anaconda3\\lib\\site-packages (from requests->nba_api) (2019.9.11)\n",
      "Requirement already satisfied: idna<2.9,>=2.5 in c:\\programdata\\anaconda3\\lib\\site-packages (from requests->nba_api) (2.8)\n",
      "Requirement already satisfied: chardet<3.1.0,>=3.0.2 in c:\\programdata\\anaconda3\\lib\\site-packages (from requests->nba_api) (3.0.4)\n",
      "Requirement already satisfied: urllib3!=1.25.0,!=1.25.1,<1.26,>=1.21.1 in c:\\programdata\\anaconda3\\lib\\site-packages (from requests->nba_api) (1.24.2)\n"
     ]
    }
   ],
   "source": [
    "# stores the data of API in a csv file\n",
    "!pip install nba_api   \n",
    "# Collecting the API nba_api\n",
    "from nba_api.stats.static import teams  \n",
    "import pandas as pd\n",
    "\n",
    "nba_teams=teams.get_teams() # nba-teams is a list of dictionary, each dictionary has the same keys.\n",
    "\n",
    "def one_dict(list_dict): \n",
    "    \"\"\"\n",
    "    parameter of this funktion is a list of dictionary, each dictionary has the same keys.\n",
    "    this funktion returns a dictionary, the value of each key is a list, \n",
    "    each element of the list corresponds to the value of the same key for each dictionary of the input parameter.\n",
    "    \"\"\"\n",
    "    keys=list_dict[0].keys()\n",
    "    out_dict={key:[] for key in keys}\n",
    "    for dict_ in list_dict:\n",
    "        for key, value in dict_.items():\n",
    "            out_dict[key].append(value)\n",
    "    return out_dict    \n",
    "\n",
    "dict_nba_team=one_dict(nba_teams)\n",
    "df_teams=pd.DataFrame(dict_nba_team)      # convert the dictionary in a DataFrame object\n",
    "df_teams.to_csv(\"DataFrame_teams.csv\",index = False, header =True)    # save the DataFrame as a csv file\n"
   ]
  },
  {
   "cell_type": "code",
   "execution_count": 20,
   "metadata": {},
   "outputs": [
    {
     "name": "stdout",
     "output_type": "stream",
     "text": [
      "1610612763\n"
     ]
    }
   ],
   "source": [
    "#loading the data from file and find out the id number of Grizzlies\n",
    "df_teams=pd.read_csv(\"DataFrame_teams.csv\")  \n",
    "# with method read_csv convert the content of a file in a DataFrame\n",
    "df_grizzlies = df_teams[df_teams[\"nickname\"]==\"Grizzlies\"]\n",
    "id_grizzlies = df_grizzlies[[\"id\"]].values[0][0]\n",
    "print(id_grizzlies)\n",
    "# print out the id number of warriors"
   ]
  },
  {
   "cell_type": "code",
   "execution_count": null,
   "metadata": {},
   "outputs": [],
   "source": []
  },
  {
   "cell_type": "code",
   "execution_count": null,
   "metadata": {},
   "outputs": [],
   "source": []
  },
  {
   "cell_type": "code",
   "execution_count": null,
   "metadata": {},
   "outputs": [],
   "source": []
  },
  {
   "cell_type": "code",
   "execution_count": null,
   "metadata": {},
   "outputs": [],
   "source": []
  }
 ],
 "metadata": {
  "kernelspec": {
   "display_name": "Python 3",
   "language": "python",
   "name": "python3"
  },
  "language_info": {
   "codemirror_mode": {
    "name": "ipython",
    "version": 3
   },
   "file_extension": ".py",
   "mimetype": "text/x-python",
   "name": "python",
   "nbconvert_exporter": "python",
   "pygments_lexer": "ipython3",
   "version": "3.7.4"
  }
 },
 "nbformat": 4,
 "nbformat_minor": 2
}
