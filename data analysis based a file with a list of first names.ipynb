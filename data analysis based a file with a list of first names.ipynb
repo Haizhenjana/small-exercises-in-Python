{
 "cells": [
  {
   "cell_type": "code",
   "execution_count": 5,
   "metadata": {},
   "outputs": [
    {
     "name": "stdout",
     "output_type": "stream",
     "text": [
      "43957\n",
      "Michael: 538059\n"
     ]
    }
   ],
   "source": [
    "#open a file with a list of first names, calculate the sum of each first name and save in a dictionary\n",
    "d = {}\n",
    "with open(\"names80until87.csv\",\"r\") as file:\n",
    "    for line in file:\n",
    "        splitted = line.strip().split(\",\")\n",
    "        if splitted[2] ==\"Year\":\n",
    "            continue\n",
    "        name, count = (splitted[1], int(splitted[5]))\n",
    "        if name in d:\n",
    "            d[name] = count + d[name]\n",
    "        else:\n",
    "            d[name] = count\n",
    "            \n",
    "#inquire the number of a specific first name\n",
    "if \"Anna\" in d.keys():\n",
    "    print(d[\"Anna\"])\n",
    "    \n",
    "#determine the most common first name(s) and the nummer    \n",
    "max_counter = max(d.values())\n",
    "for key,value in d.items():\n",
    "    if value == max_counter:\n",
    "        print(key + \": %d\"%value)\n"
   ]
  },
  {
   "cell_type": "code",
   "execution_count": null,
   "metadata": {},
   "outputs": [],
   "source": []
  },
  {
   "cell_type": "code",
   "execution_count": null,
   "metadata": {},
   "outputs": [],
   "source": []
  }
 ],
 "metadata": {
  "kernelspec": {
   "display_name": "Python 3",
   "language": "python",
   "name": "python3"
  },
  "language_info": {
   "codemirror_mode": {
    "name": "ipython",
    "version": 3
   },
   "file_extension": ".py",
   "mimetype": "text/x-python",
   "name": "python",
   "nbconvert_exporter": "python",
   "pygments_lexer": "ipython3",
   "version": "3.7.3"
  }
 },
 "nbformat": 4,
 "nbformat_minor": 2
}
